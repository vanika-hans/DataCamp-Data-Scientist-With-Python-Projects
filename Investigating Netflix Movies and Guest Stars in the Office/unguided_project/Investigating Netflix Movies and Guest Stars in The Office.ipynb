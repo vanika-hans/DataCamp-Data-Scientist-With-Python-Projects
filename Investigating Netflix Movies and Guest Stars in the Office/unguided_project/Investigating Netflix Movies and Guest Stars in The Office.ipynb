{
 "cells": [
  {
   "cell_type": "markdown",
   "id": "da79df9c-6db5-44b8-933e-7b6f51da50f5",
   "metadata": {},
   "source": [
    "Investigating Netflix Movies and Guest Stars in The Office"
   ]
  },
  {
   "cell_type": "code",
   "execution_count": null,
   "id": "4113247d-3ab8-4cb1-a99f-d1335affb624",
   "metadata": {},
   "outputs": [],
   "source": []
  }
 ],
 "metadata": {
  "kernelspec": {
   "display_name": "Python 3",
   "language": "python",
   "name": "python3"
  },
  "language_info": {
   "codemirror_mode": {
    "name": "ipython",
    "version": 3
   },
   "file_extension": ".py",
   "mimetype": "text/x-python",
   "name": "python",
   "nbconvert_exporter": "python",
   "pygments_lexer": "ipython3",
   "version": "3.8.8"
  }
 },
 "nbformat": 4,
 "nbformat_minor": 5
}
